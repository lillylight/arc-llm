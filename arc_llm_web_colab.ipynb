{
 "cells": [
  {
   "cell_type": "markdown",
   "metadata": {},
   "source": [
    "# Arc LLM Web Interface in Google Colab\n",
    "\n",
    "This notebook sets up and runs the Arc LLM web interface in Google Colab, allowing you to convert text descriptions into 2D and 3D visualizations using Claude API and SpatialLM."
   ]
  },
  {
   "cell_type": "markdown",
   "metadata": {},
   "source": [
    "## Setup\n",
    "\n",
    "First, let's clone the Arc LLM repository and install the required dependencies."
   ]
  },
  {
   "cell_type": "code",
   "execution_count": null,
   "metadata": {},
   "outputs": [],
   "source": [
    "# Clone the Arc LLM repository\n",
    "!git clone https://github.com/your-username/arc-llm.git\n",
    "%cd arc-llm"
   ]
  },
  {
   "cell_type": "code",
   "execution_count": null,
   "metadata": {},
   "outputs": [],
   "source": [
    "# Install dependencies\n",
    "!pip install -r requirements.txt"
   ]
  },
  {
   "cell_type": "code",
   "execution_count": null,
   "metadata": {},
   "outputs": [],
   "source": [
    "# Clone SpatialLM repository if it doesn't exist\n",
    "import os\n",
    "if not os.path.exists(\"SpatialLM\"):\n",
    "    !git clone https://github.com/manycore-research/SpatialLM.git"
   ]
  },
  {
   "cell_type": "markdown",
   "metadata": {},
   "source": [
    "## Set Claude API Key\n",
    "\n",
    "To use the Claude API, you need to provide an API key. You can get an API key from [Anthropic](https://www.anthropic.com/)."
   ]
  },
  {
   "cell_type": "code",
   "execution_count": null,
   "metadata": {},
   "outputs": [],
   "source": [
    "import os\n",
    "from google.colab import userdata\n",
    "\n",
    "# Try to get the API key from Colab secrets\n",
    "try:\n",
    "    CLAUDE_API_KEY = userdata.get('CLAUDE_API_KEY')\n",
    "    print(\"Claude API key loaded from Colab secrets.\")\n",
    "except Exception as e:\n",
    "    CLAUDE_API_KEY = None\n",
    "    print(\"Claude API key not found in Colab secrets.\")\n",
    "\n",
    "# If not found in secrets, prompt the user to enter it\n",
    "if not CLAUDE_API_KEY:\n",
    "    CLAUDE_API_KEY = input(\"Enter your Claude API key: \")\n",
    "\n",
    "# Set the API key as an environment variable\n",
    "os.environ[\"CLAUDE_API_KEY\"] = CLAUDE_API_KEY"
   ]
  },
  {
   "cell_type": "markdown",
   "metadata": {},
   "source": [
    "## Start the Web Interface\n",
    "\n",
    "Now let's start the web interface using Flask and ngrok to expose it to the internet."
   ]
  },
  {
   "cell_type": "code",
   "execution_count": null,
   "metadata": {},
   "outputs": [],
   "source": [
    "# Install ngrok\n",
    "!pip install pyngrok"
   ]
  },
  {
   "cell_type": "code",
   "execution_count": null,
   "metadata": {},
   "outputs": [],
   "source": [
    "# Import the web interface\n",
    "import sys\n",
    "sys.path.append(\"./\")\n",
    "from web_interface import app\n",
    "from pyngrok import ngrok\n",
    "\n",
    "# Start ngrok\n",
    "public_url = ngrok.connect(5000)\n",
    "print(f\"Web interface available at: {public_url}\")"
   ]
  },
  {
   "cell_type": "code",
   "execution_count": null,
   "metadata": {},
   "outputs": [],
   "source": [
    "# Run the Flask app\n",
    "app.run()"
   ]
  },
  {
   "cell_type": "markdown",
   "metadata": {},
   "source": [
    "## Using the Web Interface\n",
    "\n",
    "1. Click on the ngrok URL above to open the web interface\n",
    "2. Enter a text description or use one of the provided examples\n",
    "3. Click \"Generate 3D Visualization\" to generate a layout from the text description\n",
    "4. View the generated layout text and download the visualization file\n",
    "5. Use the Rerun viewer to visualize the 3D scene\n",
    "\n",
    "Note: The web interface will be available as long as this notebook is running. If you close the notebook or it times out, the web interface will no longer be accessible."
   ]
  }
 ],
 "metadata": {
  "kernelspec": {
   "display_name": "Python 3",
   "language": "python",
   "name": "python3"
  },
  "language_info": {
   "codemirror_mode": {
    "name": "ipython",
    "version": 3
   },
   "file_extension": ".py",
   "mimetype": "text/x-python",
   "name": "python",
   "nbconvert_exporter": "python",
   "pygments_lexer": "ipython3",
   "version": "3.11.0"
  }
 },
 "nbformat": 4,
 "nbformat_minor": 4
}
