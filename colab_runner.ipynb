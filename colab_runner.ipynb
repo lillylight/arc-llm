{
 "cells": [
  {
   "cell_type": "markdown",
   "metadata": {},
   "source": [
    "# Arc LLM: Text to 3D Visualization (Google Colab Runner)\n",
    "\n",
    "This notebook allows you to run Arc LLM directly in Google Colab. It will clone the repository from GitHub and set up everything you need to convert text descriptions into 3D visualizations."
   ]
  },
  {
   "cell_type": "markdown",
   "metadata": {},
   "source": [
    "## 1. Clone the Repository and Install Dependencies\n",
    "\n",
    "First, let's clone the Arc LLM repository and install the required dependencies."
   ]
  },
  {
   "cell_type": "code",
   "execution_count": null,
   "metadata": {},
   "outputs": [],
   "source": [
    "# Clone the Arc LLM repository\n",
    "!git clone https://github.com/lillylight/arc-llm.git\n",
    "%cd arc-llm"
   ]
  },
  {
   "cell_type": "code",
   "execution_count": null,
   "metadata": {},
   "outputs": [],
   "source": [
    "# Install dependencies\n",
    "!pip install -r requirements.txt"
   ]
  },
  {
   "cell_type": "code",
   "execution_count": null,
   "metadata": {},
   "outputs": [],
   "source": [
    "# Install required dependencies\n",
    "!pip install torch numpy scipy einops rerun-sdk"
   ]
  },
  {
   "cell_type": "markdown",
   "metadata": {},
   "source": [
    "## 2. Set Claude API Key\n",
    "\n",
    "To use the Claude API, you need to provide an API key. You can get an API key from [Anthropic](https://www.anthropic.com/)."
   ]
  },
  {
   "cell_type": "code",
   "execution_count": null,
   "metadata": {},
   "outputs": [],
   "source": [
    "import os\n",
    "from google.colab import userdata\n",
    "\n",
    "# Try to get the API key from Colab secrets\n",
    "try:\n",
    "    CLAUDE_API_KEY = userdata.get('CLAUDE_API_KEY')\n",
    "    print(\"Claude API key loaded from Colab secrets.\")\n",
    "except Exception as e:\n",
    "    CLAUDE_API_KEY = None\n",
    "    print(\"Claude API key not found in Colab secrets.\")\n",
    "\n",
    "# If not found in secrets, prompt the user to enter it\n",
    "if not CLAUDE_API_KEY:\n",
    "    CLAUDE_API_KEY = input(\"Enter your Claude API key: \")\n",
    "\n",
    "# Set the API key as an environment variable\n",
    "os.environ[\"CLAUDE_API_KEY\"] = CLAUDE_API_KEY"
   ]
  },
  {
   "cell_type": "markdown",
   "metadata": {},
   "source": [
    "## 3. Import Arc LLM\n",
    "\n",
    "Now let's import the Arc LLM module and create an instance of the ArcLLM class."
   ]
  },
  {
   "cell_type": "code",
   "execution_count": null,
   "metadata": {},
   "outputs": [],
   "source": [
    "import sys\n",
    "import os\n",
    "\n",
    "# Add the current directory to the Python path\n",
    "sys.path.append(os.path.abspath(\".\"))\n",
    "\n",
    "# Create a symbolic link for the spatiallm module\n",
    "!mkdir -p spatiallm\n",
    "!touch spatiallm/__init__.py\n",
    "!echo \"from simplified_spatiallm import Layout, Wall, Door, Window, Bbox, visualize_layout\" > spatiallm/__init__.py\n",
    "\n",
    "# Import Arc LLM\n",
    "from arc_llm import ArcLLM\n",
    "\n",
    "# Create an instance of ArcLLM\n",
    "arc_llm = ArcLLM(claude_api_key=CLAUDE_API_KEY)"
   ]
  },
  {
   "cell_type": "markdown",
   "metadata": {},
   "source": [
    "## 4. Generate Layout from Text\n",
    "\n",
    "Now let's generate a layout from a text description. You can choose between a simple room example or a complex house example."
   ]
  },
  {
   "cell_type": "code",
   "execution_count": null,
   "metadata": {},
   "outputs": [],
   "source": [
    "# Example selection\n",
    "from ipywidgets import widgets\n",
    "from IPython.display import display\n",
    "\n",
    "example_type = widgets.Dropdown(\n",
    "    options=['Simple Room', 'Complex House'],\n",
    "    value='Simple Room',\n",
    "    description='Example:',\n",
    "    disabled=False,\n",
    ")\n",
    "\n",
    "display(example_type)\n",
    "\n",
    "# Load example files\n",
    "with open(\"examples/living_room.txt\", \"r\") as f:\n",
    "    simple_room_text = f.read()\n",
    "    \n",
    "with open(\"examples/complex_house.txt\", \"r\") as f:\n",
    "    complex_house_text = f.read()\n",
    "\n",
    "# Function to get selected example text\n",
    "def get_example_text():\n",
    "    if example_type.value == 'Simple Room':\n",
    "        return simple_room_text\n",
    "    else:\n",
    "        return complex_house_text\n",
    "\n",
    "# Display the selected example\n",
    "text = get_example_text()\n",
    "print(f\"Text description:\\n{text}\")"
   ]
  },
  {
   "cell_type": "code",
   "execution_count": null,
   "metadata": {},
   "outputs": [],
   "source": [
    "# Generate layout from text\n",
    "layout_str = arc_llm.convert_text_to_layout(text)\n",
    "print(f\"Generated layout:\\n{layout_str}\")"
   ]
  },
  {
   "cell_type": "markdown",
   "metadata": {},
   "source": [
    "## 5. Visualize Layout\n",
    "\n",
    "Now let's visualize the layout using rerun. We'll save the visualization to a file and then display it in the notebook."
   ]
  },
  {
   "cell_type": "code",
   "execution_count": null,
   "metadata": {},
   "outputs": [],
   "source": [
    "# Save the visualization to a file\n",
    "output_file = \"visualization.rrd\"\n",
    "arc_llm.visualize(layout_str, output_file=output_file)"
   ]
  },
  {
   "cell_type": "code",
   "execution_count": null,
   "metadata": {},
   "outputs": [],
   "source": [
    "# Install rerun viewer if not already installed\n",
    "!pip install rerun-viewer"
   ]
  },
  {
   "cell_type": "code",
   "execution_count": null,
   "metadata": {},
   "outputs": [],
   "source": [
    "# View the visualization\n",
    "!rerun visualization.rrd"
   ]
  },
  {
   "cell_type": "markdown",
   "metadata": {},
   "source": [
    "## 6. Alternative: Use rerun-sdk to display the visualization in the notebook\n",
    "\n",
    "If the above method doesn't work, we can use rerun-sdk to display the visualization directly in the notebook."
   ]
  },
  {
   "cell_type": "code",
   "execution_count": null,
   "metadata": {},
   "outputs": [],
   "source": [
    "import rerun as rr\n",
    "import rerun.blueprint as rrb\n",
    "from IPython.display import IFrame\n",
    "\n",
    "# Start a rerun server\n",
    "rr.init(\"rerun_arcllm\")\n",
    "rr.serve()"
   ]
  },
  {
   "cell_type": "code",
   "execution_count": null,
   "metadata": {},
   "outputs": [],
   "source": [
    "# Display the visualization in an iframe\n",
    "IFrame(src=\"http://localhost:9876\", width=800, height=600)"
   ]
  },
  {
   "cell_type": "markdown",
   "metadata": {},
   "source": [
    "## 7. Web Interface (Optional)\n",
    "\n",
    "If you want to use the web interface, you can run the following cells to start it."
   ]
  },
  {
   "cell_type": "code",
   "execution_count": null,
   "metadata": {},
   "outputs": [],
   "source": [
    "# Install additional dependencies for the web interface\n",
    "!pip install flask pyngrok"
   ]
  },
  {
   "cell_type": "code",
   "execution_count": null,
   "metadata": {},
   "outputs": [],
   "source": [
    "# Import the web interface\n",
    "from web_interface import app\n",
    "from pyngrok import ngrok\n",
    "\n",
    "# Start ngrok\n",
    "public_url = ngrok.connect(5000)\n",
    "print(f\"Web interface available at: {public_url}\")"
   ]
  },
  {
   "cell_type": "code",
   "execution_count": null,
   "metadata": {},
   "outputs": [],
   "source": [
    "# Run the Flask app\n",
    "app.run()"
   ]
  }
 ],
 "metadata": {
  "kernelspec": {
   "display_name": "Python 3",
   "language": "python",
   "name": "python3"
  },
  "language_info": {
   "codemirror_mode": {
    "name": "ipython",
    "version": 3
   },
   "file_extension": ".py",
   "mimetype": "text/x-python",
   "name": "python",
   "nbconvert_exporter": "python",
   "pygments_lexer": "ipython3",
   "version": "3.11.0"
  }
 },
 "nbformat": 4,
 "nbformat_minor": 4
}
